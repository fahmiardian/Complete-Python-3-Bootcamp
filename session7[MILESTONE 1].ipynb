{
 "cells": [
  {
   "cell_type": "code",
   "execution_count": 6,
   "id": "fbb03c9c-4519-4700-b952-43e88fb7b60b",
   "metadata": {},
   "outputs": [],
   "source": [
    "from IPython.display import clear_output\n",
    "\n",
    "def display_board(board):\n",
    "    clear_output()\n",
    "    print(board[7] + '|' + board[8] + '|' + board[9])\n",
    "    print(board[4] + '|' + board[5] + '|' + board[6])\n",
    "    print(board[1] + '|' + board[2] + '|' + board[3])"
   ]
  },
  {
   "cell_type": "code",
   "execution_count": 12,
   "id": "aaf39dc0-fb11-4b8d-bfc0-31a0a77a60f3",
   "metadata": {},
   "outputs": [
    {
     "name": "stdout",
     "output_type": "stream",
     "text": [
      "X|O|X\n",
      "O|X|O\n",
      "X|O|X\n"
     ]
    }
   ],
   "source": [
    "test_board = ['#', 'X', 'O', 'X', 'O', 'X', 'O', 'X', 'O', 'X']\n",
    "display_board(test_board)\n",
    "display_board(test_board)"
   ]
  },
  {
   "cell_type": "code",
   "execution_count": 14,
   "id": "43035b2d-da6d-45e1-8e93-34395e5021cf",
   "metadata": {},
   "outputs": [],
   "source": [
    "def player_input():\n",
    "    marker = ''\n",
    "\n",
    "    while marker != 'X' and marker != 'O':\n",
    "        marker = input('Player1: Choose X or O: ').upper()\n",
    "\n",
    "    if marker == 'X':\n",
    "        return ('X', 'O')\n",
    "    else:\n",
    "        return ('O', 'X')"
   ]
  },
  {
   "cell_type": "code",
   "execution_count": 24,
   "id": "6f86bdbb-c44b-40c7-8d89-801e057a22ea",
   "metadata": {},
   "outputs": [
    {
     "name": "stdin",
     "output_type": "stream",
     "text": [
      "Player1: Choose X or O:  X\n"
     ]
    }
   ],
   "source": [
    "player1_marker, player2_marker = player_input()"
   ]
  },
  {
   "cell_type": "code",
   "execution_count": 32,
   "id": "f1800f28-09b4-42be-b683-535737607b63",
   "metadata": {},
   "outputs": [],
   "source": [
    "def place_marker(board, marker, position):\n",
    "    board[position] = marker"
   ]
  },
  {
   "cell_type": "code",
   "execution_count": 28,
   "id": "c69b7b8c-7ab0-44c8-8d94-99236870edca",
   "metadata": {},
   "outputs": [
    {
     "data": {
      "text/plain": [
       "['#', 'X', 'O', 'X', 'O', 'X', 'O', 'X', 'O', 'X']"
      ]
     },
     "execution_count": 28,
     "metadata": {},
     "output_type": "execute_result"
    }
   ],
   "source": [
    "test_board"
   ]
  },
  {
   "cell_type": "code",
   "execution_count": 34,
   "id": "538df89e-75e5-4d38-9c5b-86a66d7cd54c",
   "metadata": {},
   "outputs": [
    {
     "name": "stdout",
     "output_type": "stream",
     "text": [
      "X|O|X\n",
      "O|$|O\n",
      "X|O|X\n"
     ]
    }
   ],
   "source": [
    "place_marker(test_board, '$', 5)\n",
    "display_board(test_board)"
   ]
  },
  {
   "cell_type": "code",
   "execution_count": 38,
   "id": "2d83aaf4-97ed-4385-bf0e-67eefcb781d3",
   "metadata": {},
   "outputs": [],
   "source": [
    "def win_check(board, mark):\n",
    "    #WIN TIC TAC TOE\n",
    "    \n",
    "    \n",
    "    #ALL ROWS, checking if they have same marker\n",
    "    return ((board[1] == mark and board[2] == mark and board [3] == mark) or\n",
    "    (board[4] == mark and board[5] == mark and board [6] == mark) or\n",
    "    (board[7] == mark and board[8] == mark and board [9] == mark) or\n",
    "    \n",
    "    #ALL COLUMNS\n",
    "    (board[1] == mark and board[4] == mark and board [7] == mark) or\n",
    "    (board[2] == mark and board[5] == mark and board [8] == mark) or\n",
    "    (board[3] == mark and board[6] == mark and board [9] == mark) or\n",
    "    \n",
    "    #DIAGONALS\n",
    "    (board[1] == mark and board[5] == mark and board [9] == mark) or\n",
    "    (board[3] == mark and board[5] == mark and board [7] == mark))"
   ]
  },
  {
   "cell_type": "code",
   "execution_count": 44,
   "id": "5a6e8c60-02f7-40c3-b5c7-433bd192b2ac",
   "metadata": {},
   "outputs": [
    {
     "name": "stdout",
     "output_type": "stream",
     "text": [
      "X|O|X\n",
      "O|X|O\n",
      "X|O|X\n"
     ]
    }
   ],
   "source": [
    "place_marker(test_board, 'X', 5)\n",
    "display_board(test_board)"
   ]
  },
  {
   "cell_type": "code",
   "execution_count": 48,
   "id": "0bac6739-7b00-43ef-b2a8-ce642795e782",
   "metadata": {},
   "outputs": [
    {
     "data": {
      "text/plain": [
       "True"
      ]
     },
     "execution_count": 48,
     "metadata": {},
     "output_type": "execute_result"
    }
   ],
   "source": [
    "win_check(test_board, 'X')"
   ]
  },
  {
   "cell_type": "code",
   "execution_count": 56,
   "id": "9c0af841-e922-4962-a35f-14ad9661d4e8",
   "metadata": {},
   "outputs": [],
   "source": [
    "import random\n",
    "\n",
    "def choose_first():\n",
    "    flip = random.randint(0,1)\n",
    "\n",
    "    if flip == 0:\n",
    "        return 'Player 1'\n",
    "    else:\n",
    "        return 'Player 2'"
   ]
  },
  {
   "cell_type": "code",
   "execution_count": 58,
   "id": "c3656907-197b-4db2-bca4-f34f8d26768f",
   "metadata": {},
   "outputs": [],
   "source": [
    "def space_check(board, position):\n",
    "    return board[position] == ' '"
   ]
  },
  {
   "cell_type": "code",
   "execution_count": 63,
   "id": "619c92dc-c6ed-4dea-9fd0-8702322de643",
   "metadata": {},
   "outputs": [],
   "source": [
    "def full_board_check(board):\n",
    "    for i in range(1,10):\n",
    "        if space_check(board, i):\n",
    "            return False\n",
    "    #BOARD IS FULL IF RETURN TRUE\n",
    "    return True"
   ]
  },
  {
   "cell_type": "code",
   "execution_count": 69,
   "id": "0179fcd1-96aa-4151-9546-d1ca0b971afd",
   "metadata": {},
   "outputs": [],
   "source": [
    "def player_choice(board):\n",
    "    position = 0\n",
    "\n",
    "    while position not in [1,2,3,4,5,6,7,8,9] or not space_check(board, position):\n",
    "        position = int(input('Choose a position: (1-9) '))\n",
    "    \n",
    "    return position"
   ]
  },
  {
   "cell_type": "code",
   "execution_count": 79,
   "id": "4142d9dd-c240-425f-a3c0-d18f4af86a9e",
   "metadata": {},
   "outputs": [],
   "source": [
    "def replay():\n",
    "    choice = input(\"Play again? Type 'Yes' or 'No'\")\n",
    "\n",
    "    return choice == 'Yes'"
   ]
  },
  {
   "cell_type": "code",
   "execution_count": 81,
   "id": "b013cf09-d7b5-4ebd-a4cf-1079c267ec84",
   "metadata": {},
   "outputs": [
    {
     "name": "stdout",
     "output_type": "stream",
     "text": [
      " |O| \n",
      " |O| \n",
      "X|O|X\n",
      "Player 2 Win!\n"
     ]
    },
    {
     "name": "stdin",
     "output_type": "stream",
     "text": [
      "Play again? Type 'Yes' or 'No' No\n"
     ]
    }
   ],
   "source": [
    "#WHILE LOOP TO KEEP RUNNING THE GAME\n",
    "print(\"Welcome to Tic Tac Toe\")\n",
    "\n",
    "while True:\n",
    "    #Play the game\n",
    "\n",
    "    #Set everything up (all functions)\n",
    "    the_board = [' ']*10\n",
    "    player1_marker, player2_marker = player_input()\n",
    "\n",
    "    turn = choose_first()\n",
    "    print(turn + \" will go first\")\n",
    "\n",
    "    play_game = input(\"Start now? 'Yes' or 'No'\")\n",
    "    if play_game == 'Yes':\n",
    "        game_on = True\n",
    "    else:\n",
    "        game_on = False\n",
    "    \n",
    "    #Game play\n",
    "    while game_on:\n",
    "        if turn == 'Player 1':\n",
    "            #Show the board\n",
    "            display_board(the_board)\n",
    "            #Choose a position\n",
    "            position = player_choice(the_board)\n",
    "            #Place the marker on the position\n",
    "            place_marker(the_board, player1_marker, position)\n",
    "            #Check if won\n",
    "            if win_check(the_board, player1_marker):\n",
    "                display_board(the_board)\n",
    "                print(\"Player 1 Win!\")\n",
    "                game_on = False\n",
    "            #Or check if tie\n",
    "            else:\n",
    "                if full_board_check(the_board):\n",
    "                    display_board(the_board)\n",
    "                    print(\"Game is Tie!\")\n",
    "                    break\n",
    "                #Or no tie and won, then game resume\n",
    "                else:\n",
    "                    turn = 'Player 2'\n",
    "        else:\n",
    "            #Show the board\n",
    "            display_board(the_board)\n",
    "            #Choose a position\n",
    "            position = player_choice(the_board)\n",
    "            #Place the marker on the position\n",
    "            place_marker(the_board, player2_marker, position)\n",
    "            #Check if won\n",
    "            if win_check(the_board, player2_marker):\n",
    "                display_board(the_board)\n",
    "                print(\"Player 2 Win!\")\n",
    "                game_on = False\n",
    "            #Or check if tie\n",
    "            else:\n",
    "                if full_board_check(the_board):\n",
    "                    display_board(the_board)\n",
    "                    print(\"Game is Tie!\")\n",
    "                    break\n",
    "                #Or no tie and won, then game resume\n",
    "                else:\n",
    "                    turn = 'Player 1' \n",
    "\n",
    "    if not replay():\n",
    "        break\n",
    "    #Break out of the while loop on replay()"
   ]
  }
 ],
 "metadata": {
  "kernelspec": {
   "display_name": "Python [conda env:base] *",
   "language": "python",
   "name": "conda-base-py"
  },
  "language_info": {
   "codemirror_mode": {
    "name": "ipython",
    "version": 3
   },
   "file_extension": ".py",
   "mimetype": "text/x-python",
   "name": "python",
   "nbconvert_exporter": "python",
   "pygments_lexer": "ipython3",
   "version": "3.12.7"
  }
 },
 "nbformat": 4,
 "nbformat_minor": 5
}
